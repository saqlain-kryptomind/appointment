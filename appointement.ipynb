import json
from bson import ObjectId  # Fix for ObjectId handling
from langchain.agents import initialize_agent, Tool, AgentType
from langchain.chat_models import ChatOpenAI
from langchain.memory import ConversationBufferMemory
from pymongo import MongoClient
from datetime import datetime

# Database Functions
def get_database():
    client = MongoClient("mongodb://localhost:27017/")
    db = client["doctor_scheduler"]
    return db

def insert_appointment(db, appointment):
    appointments = db["appointments"]
    return appointments.insert_one(appointment).inserted_id

def find_appointment(db, user_id, appointment_id):
    """Find an appointment by ObjectId and user_id."""
    appointments = db["appointments"]
    try: 
        return appointments.find_one({"_id": ObjectId(appointment_id), "user_id": user_id})
    except Exception as e:
        print(f"Error in find_appointment: {e}")
        return None

def update_appointment(db, appointment_id, updates):
    """Update an appointment by ObjectId."""
    appointments = db["appointments"]
    try:
        return appointments.update_one({"_id": ObjectId(appointment_id)}, {"$set": updates})
    except Exception as e:
        print(f"Error in update_appointment: {e}")
        return None

def delete_appointment(db, appointment_id):
    """Delete an appointment by ObjectId."""
    appointments = db["appointments"]
    try:
        return appointments.delete_one({"_id": ObjectId(appointment_id)})
    except Exception as e:
        print(f"Error in delete_appointment: {e}")
        return None

# Calendar Simulation
calendar = {}

def check_availability(doctor_name, date, time):
    """Check if the doctor is available at the requested time."""
    return calendar.get((doctor_name, date, time)) != "Booked"

def update_calendar(doctor_name, date, time, status):
    """Update the calendar with appointment status."""
    calendar[(doctor_name, date, time)] = status

# Functions for scheduling, editing, and canceling appointments
def schedule_appointment(input_data):
    try:
        input_data = json.loads(input_data)  # Parse input
        db = get_database()  # Get database instance
        user_id = input_data["user_id"]
        doctor_name = input_data["doctor_name"]
        date = input_data["date"]
        time = input_data["time"]

        if check_availability(doctor_name, date, time):
            appointment = {
                "user_id": user_id,
                "doctor_name": doctor_name,
                "date": date,
                "time": time,
                "status": "Scheduled",
            }
            appointment_id = insert_appointment(db, appointment)
            update_calendar(doctor_name, date, time, "Booked")
            return f"Appointment scheduled successfully! ID: {appointment_id}"
        else:
            return "The selected time slot is not available."
    except Exception as e:
        return f"Error in scheduling appointment: {e}"

def edit_appointment(input_data):
    try:
        input_data = json.loads(input_data)
        db = get_database()
        user_id = input_data["user_id"]
        appointment_id = input_data["appointment_id"]
        new_date = input_data["new_date"]
        new_time = input_data["new_time"]

        appointment = find_appointment(db, user_id, appointment_id)
        if appointment is None:
            return "Appointment not found."

        doctor_name = appointment["doctor_name"]
        if check_availability(doctor_name, new_date, new_time):
            update_appointment(db, appointment_id, {"date": new_date, "time": new_time, "status": "Rescheduled"})
            update_calendar(doctor_name, new_date, new_time, "Booked")
            update_calendar(doctor_name, appointment["date"], appointment["time"], "Available")
            return "Appointment rescheduled successfully."
        else:
            return "The new time slot is not available."
    except Exception as e:
        return f"Error in editing appointment: {e}"

def cancel_appointment(input_data):
    try:
        input_data = json.loads(input_data)
        db = get_database()
        user_id = input_data["user_id"]
        appointment_id = input_data["appointment_id"]

        appointment = find_appointment(db, user_id, appointment_id)
        if appointment is None:
            return "Appointment not found."

        delete_appointment(db, appointment_id)
        update_calendar(appointment["doctor_name"], appointment["date"], appointment["time"], "Available")
        return "Appointment canceled successfully."
    except Exception as e:
        return f"Error in canceling appointment: {e}"

def get_user_appointments(db, user_id):
    """Retrieve all appointments for a specific user."""
    appointments = db["appointments"]
    print(appointments)
    try:
        results = list(appointments.find({"user_id": user_id}))
        
        return results
    except Exception as e:
        print(f"Error in get_user_appointments: {e}")
        return []

DOCTORS = {
    "John Doe": {
        "specialty": "Cardiologist",
        "available_days": ["Monday", "Wednesday", "Friday"],
        "available_times": ["9:00 AM - 12:00 PM", "2:00 PM - 4:00 PM"]
    },
    "Jane Smith": {
        "specialty": "Dermatologist",
        "available_days": ["Tuesday", "Thursday"],
        "available_times": ["10:00 AM - 1:00 PM"]
    },
    "Alice Johnson": {
        "specialty": "Pediatrician",
        "available_days": ["Monday", "Thursday"],
        "available_times": ["8:00 AM - 11:00 AM", "1:00 PM - 3:00 PM"]
    }
}

def list_doctors():
    """
    Returns a list of all doctors and their details.
    """
    if not DOCTORS:
        return "No doctor information is available."
    
    return "\n".join([
        f"Dr. {name}: {info['specialty']}\n"
        f"Available Days: {', '.join(info['available_days'])}\n"
        f"Available Times: {', '.join(info['available_times'])}\n"
        for name, info in DOCTORS.items()
    ])

def answer_general_questions(input_query):
    """
    Handles general questions about doctors and services.
    """
    try:
        query = input_query.lower()
        
        if "doctor" in query or "availability" in query:
            return "\n".join([
                f"Dr. {name}: {info['specialty']}\n"
                f"Available Days: {', '.join(info['available_days'])}\n"
                f"Available Times: {', '.join(info['available_times'])}\n"
                for name, info in DOCTORS.items()
            ])
        elif "service" in query or "what can you do" in query:
            return "This tool helps schedule, reschedule, and cancel appointments and provides information about doctors."
        else:
            return "Sorry, I couldn't understand your question. Try asking about doctors or services."
    except Exception as e:
        return f"Error while processing your question: {e}"

def handle_appointment_queries(query):
    """
    Handles user queries related to appointments and provides relevant guidance.
    """
    response_map = {
        "schedule": "To schedule an appointment, please provide the doctor's name, date, and time. For example: 'Book an appointment with Dr. John on 2024-12-01 at 10:00 AM'.",
        "book": "To schedule an appointment, please provide the doctor's name, date, and time. For example: 'Book an appointment with Dr. John on 2024-12-01 at 10:00 AM'.",
        "reschedule": "To reschedule an appointment, please provide the appointment ID, new date, and time. For example: 'Reschedule my appointment ID 12345 to 2024-12-02 at 2:00 PM'.",
        "change": "To reschedule an appointment, please provide the appointment ID, new date, and time. For example: 'Reschedule my appointment ID 12345 to 2024-12-02 at 2:00 PM'.",
        "edit": "To reschedule an appointment, please provide the appointment ID, new date, and time. For example: 'Reschedule my appointment ID 12345 to 2024-12-02 at 2:00 PM'.",
        "cancel": "To cancel an appointment, please provide the appointment ID. For example: 'Cancel my appointment ID 12345'.",
        "delete": "To cancel an appointment, please provide the appointment ID. For example: 'Cancel my appointment ID 12345'.",
        "check": "To check your appointments, simply ask for a list of your scheduled appointments. For example: 'Show me my appointments'.",
        "list": "To check your appointments, simply ask for a list of your scheduled appointments. For example: 'Show me my appointments'.",
        "view": "To check your appointments, simply ask for a list of your scheduled appointments. For example: 'Show me my appointments'.",
    }

    # Default response if no keyword matches
    return response_map.get(query.lower(), "I can assist you with scheduling, rescheduling, canceling, or checking appointments. Please specify what you would like to do.")



# Define LangChain Tools
tools = [
    Tool(
        name="Schedule Appointment",
        func=schedule_appointment,
        description="Schedules an appointment with a doctor. Input: JSON string with user_id, doctor_name, date, time. also return appointment id"
    ),
    Tool(
        name="Edit Appointment",
        func=edit_appointment,
        description="Edits an existing appointment. Input: JSON string with user_id, appointment_id, new_date, new_time."
    ),
    Tool(
        name="Cancel Appointment",
        func=cancel_appointment,
        description="Cancels an existing appointment. Input: JSON string with user_id, appointment_id."
    ),
    Tool(
    name="Answer General Questions",
    func=answer_general_questions,
    description="Answers general questions about doctors, their availability, or services offered."
    ),
    Tool(
    name="Guide for Appointments",
    func=handle_appointment_queries,
    description=(
        "Guides the user on how to schedule, reschedule, cancel, or check appointments. "
        "Input: A natural language query related to appointments. "
        "Output: Guidance on how to proceed."
    )
    ),
    Tool(
        name="Get Appointments",
        func=lambda x: json.dumps({
            "appointments": get_user_appointments(get_database(), x)
        }),
        description="Fetches all appointments for a user. Input: user_id."
    ),
    Tool(
    name="Answer General Questions",
    func=lambda x: {
        "doctor_info": "\n".join([
            f"Dr. {name}: {info['specialty']}\n"
            f"Available Days: {', '.join(info['available_days'])}\n"
            f"Available Times: {', '.join(info['available_times'])}\n"
            for name, info in DOCTORS.items()
        ]),
        "general_info": "This tool provides various responses based on different categories. You can ask about doctors, services, and appointment scheduling."
    }.get(x.lower(), "Sorry, I couldn't understand that question."),
    description="This tool answers general questions, such as information about doctors, their availability, or services offered."
    ),
    Tool(
    name="Answer General Questions",
    func=lambda query: (
        list_doctors() if "doctor" in query.lower() else
        "This tool helps schedule, reschedule, and cancel appointments and provides information about doctors."
    ),
    description="Answers general questions about doctors, their availability, or services offered."
    ),
]

# Memory for LangChain
memory = ConversationBufferMemory(memory_key="chat_history")

# Initialize LLM
llm = ChatOpenAI(model="gpt-3.5-turbo", temperature=0)  # Replace with your API key


# Initialize Agent
agent = initialize_agent(
    tools=tools,
    agent_type=AgentType.ZERO_SHOT_REACT_DESCRIPTION,
    llm=llm,
    memory=memory,
    verbose=True,
)

import gradio as gr

def chatbot_interface(user_input, chat_history):
    try:
        # Process user input through the agent
        response = agent.run(json.dumps({"input": user_input, "user_id": 1}))  # Mock user_id
        chat_history.append(("User", user_input)) 
        chat_history.append(("Bot", response))
        return chat_history, chat_history
    except Exception as e:
        chat_history.append(("Bot", f"An error occurred: {e}"))
        return chat_history, chat_history

# Launch Gradio app
interface = gr.Interface(
    fn=chatbot_interface,
    inputs=[
        gr.Textbox(placeholder="Enter your message here...", label="Your Message"),
        gr.State([]),  # To maintain chat history
    ],
    outputs=[
        gr.Chatbot(label="Doctor Appointment Scheduler"),
        gr.State([]),  # To maintain chat history
    ],
    title="Doctor Appointment Scheduler",
    description="A chatbot for scheduling, rescheduling, and canceling doctor appointments.",
)

if __name__ == "__main__":
    interface.launch(share=True)

# Chatbot Function
def chatbot():
    print("Welcome to the Doctor Appointment Scheduler!")
    user_id = 1  # Mock user ID for now
    
    while True:
        user_input = input("You: ")

        if user_input.lower() == "bye":
            print("Bot: Goodbye!")
            break

        # Wrap user input with additional data
        try:
            response = agent.run(
                json.dumps({
                    "input": user_input,
                    "user_id": user_id
                })
            )
            print(f"Bot: {response}")
        except Exception as e:
            print(f"Bot: An error occurred: {e}")

if __name__ == "__main__":
    chatbot()
